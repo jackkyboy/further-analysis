{
 "cells": [
  {
   "cell_type": "code",
   "execution_count": 1,
   "id": "76f3e79e-90b0-4f42-b814-bee4901b68d5",
   "metadata": {},
   "outputs": [
    {
     "name": "stdout",
     "output_type": "stream",
     "text": [
      "Requirement already satisfied: pandas in ./opt/anaconda3/lib/python3.9/site-packages (1.4.1)\n",
      "Requirement already satisfied: python-dateutil>=2.8.1 in ./opt/anaconda3/lib/python3.9/site-packages (from pandas) (2.8.2)\n",
      "Requirement already satisfied: pytz>=2020.1 in ./opt/anaconda3/lib/python3.9/site-packages (from pandas) (2021.3)\n",
      "Requirement already satisfied: numpy>=1.18.5 in ./opt/anaconda3/lib/python3.9/site-packages (from pandas) (1.24.4)\n",
      "Requirement already satisfied: six>=1.5 in ./opt/anaconda3/lib/python3.9/site-packages (from python-dateutil>=2.8.1->pandas) (1.16.0)\n",
      "\n",
      "\u001b[1m[\u001b[0m\u001b[34;49mnotice\u001b[0m\u001b[1;39;49m]\u001b[0m\u001b[39;49m A new release of pip is available: \u001b[0m\u001b[31;49m23.0.1\u001b[0m\u001b[39;49m -> \u001b[0m\u001b[32;49m24.0\u001b[0m\n",
      "\u001b[1m[\u001b[0m\u001b[34;49mnotice\u001b[0m\u001b[1;39;49m]\u001b[0m\u001b[39;49m To update, run: \u001b[0m\u001b[32;49mpip install --upgrade pip\u001b[0m\n",
      "Note: you may need to restart the kernel to use updated packages.\n"
     ]
    }
   ],
   "source": [
    "pip install pandas"
   ]
  },
  {
   "cell_type": "code",
   "execution_count": 4,
   "id": "ab28be9a-dfad-4545-b7dd-2570fa66abb6",
   "metadata": {},
   "outputs": [
    {
     "name": "stdout",
     "output_type": "stream",
     "text": [
      "Requirement already satisfied: matplotlib in ./opt/anaconda3/lib/python3.9/site-packages (3.5.1)\n",
      "Requirement already satisfied: fonttools>=4.22.0 in ./opt/anaconda3/lib/python3.9/site-packages (from matplotlib) (4.25.0)\n",
      "Requirement already satisfied: packaging>=20.0 in ./opt/anaconda3/lib/python3.9/site-packages (from matplotlib) (21.3)\n",
      "Requirement already satisfied: python-dateutil>=2.7 in ./opt/anaconda3/lib/python3.9/site-packages (from matplotlib) (2.8.2)\n",
      "Requirement already satisfied: kiwisolver>=1.0.1 in ./opt/anaconda3/lib/python3.9/site-packages (from matplotlib) (1.3.2)\n",
      "Requirement already satisfied: pillow>=6.2.0 in ./opt/anaconda3/lib/python3.9/site-packages (from matplotlib) (10.2.0)\n",
      "Requirement already satisfied: pyparsing>=2.2.1 in ./opt/anaconda3/lib/python3.9/site-packages (from matplotlib) (3.0.4)\n",
      "Requirement already satisfied: cycler>=0.10 in ./opt/anaconda3/lib/python3.9/site-packages (from matplotlib) (0.11.0)\n",
      "Requirement already satisfied: numpy>=1.17 in ./opt/anaconda3/lib/python3.9/site-packages (from matplotlib) (1.24.4)\n",
      "Requirement already satisfied: six>=1.5 in ./opt/anaconda3/lib/python3.9/site-packages (from python-dateutil>=2.7->matplotlib) (1.16.0)\n",
      "\n",
      "\u001b[1m[\u001b[0m\u001b[34;49mnotice\u001b[0m\u001b[1;39;49m]\u001b[0m\u001b[39;49m A new release of pip is available: \u001b[0m\u001b[31;49m23.0.1\u001b[0m\u001b[39;49m -> \u001b[0m\u001b[32;49m24.0\u001b[0m\n",
      "\u001b[1m[\u001b[0m\u001b[34;49mnotice\u001b[0m\u001b[1;39;49m]\u001b[0m\u001b[39;49m To update, run: \u001b[0m\u001b[32;49mpip install --upgrade pip\u001b[0m\n",
      "Note: you may need to restart the kernel to use updated packages.\n"
     ]
    }
   ],
   "source": [
    "pip install matplotlib"
   ]
  },
  {
   "cell_type": "code",
   "execution_count": 5,
   "id": "9b34adf3-d401-4739-8078-bffd382751c2",
   "metadata": {},
   "outputs": [
    {
     "name": "stdout",
     "output_type": "stream",
     "text": [
      "Requirement already satisfied: seaborn in ./opt/anaconda3/lib/python3.9/site-packages (0.11.2)\n",
      "Requirement already satisfied: pandas>=0.23 in ./opt/anaconda3/lib/python3.9/site-packages (from seaborn) (1.4.1)\n",
      "Requirement already satisfied: scipy>=1.0 in ./opt/anaconda3/lib/python3.9/site-packages (from seaborn) (1.8.0)\n",
      "Requirement already satisfied: matplotlib>=2.2 in ./opt/anaconda3/lib/python3.9/site-packages (from seaborn) (3.5.1)\n",
      "Requirement already satisfied: numpy>=1.15 in ./opt/anaconda3/lib/python3.9/site-packages (from seaborn) (1.24.4)\n",
      "Requirement already satisfied: fonttools>=4.22.0 in ./opt/anaconda3/lib/python3.9/site-packages (from matplotlib>=2.2->seaborn) (4.25.0)\n",
      "Requirement already satisfied: kiwisolver>=1.0.1 in ./opt/anaconda3/lib/python3.9/site-packages (from matplotlib>=2.2->seaborn) (1.3.2)\n",
      "Requirement already satisfied: packaging>=20.0 in ./opt/anaconda3/lib/python3.9/site-packages (from matplotlib>=2.2->seaborn) (21.3)\n",
      "Requirement already satisfied: cycler>=0.10 in ./opt/anaconda3/lib/python3.9/site-packages (from matplotlib>=2.2->seaborn) (0.11.0)\n",
      "Requirement already satisfied: pyparsing>=2.2.1 in ./opt/anaconda3/lib/python3.9/site-packages (from matplotlib>=2.2->seaborn) (3.0.4)\n",
      "Requirement already satisfied: python-dateutil>=2.7 in ./opt/anaconda3/lib/python3.9/site-packages (from matplotlib>=2.2->seaborn) (2.8.2)\n",
      "Requirement already satisfied: pillow>=6.2.0 in ./opt/anaconda3/lib/python3.9/site-packages (from matplotlib>=2.2->seaborn) (10.2.0)\n",
      "Requirement already satisfied: pytz>=2020.1 in ./opt/anaconda3/lib/python3.9/site-packages (from pandas>=0.23->seaborn) (2021.3)\n",
      "Requirement already satisfied: six>=1.5 in ./opt/anaconda3/lib/python3.9/site-packages (from python-dateutil>=2.7->matplotlib>=2.2->seaborn) (1.16.0)\n",
      "\n",
      "\u001b[1m[\u001b[0m\u001b[34;49mnotice\u001b[0m\u001b[1;39;49m]\u001b[0m\u001b[39;49m A new release of pip is available: \u001b[0m\u001b[31;49m23.0.1\u001b[0m\u001b[39;49m -> \u001b[0m\u001b[32;49m24.0\u001b[0m\n",
      "\u001b[1m[\u001b[0m\u001b[34;49mnotice\u001b[0m\u001b[1;39;49m]\u001b[0m\u001b[39;49m To update, run: \u001b[0m\u001b[32;49mpip install --upgrade pip\u001b[0m\n",
      "Note: you may need to restart the kernel to use updated packages.\n"
     ]
    }
   ],
   "source": [
    "pip install seaborn"
   ]
  },
  {
   "cell_type": "code",
   "execution_count": 11,
   "id": "5772814f-9179-4a50-887f-5dc5d1f60d91",
   "metadata": {},
   "outputs": [],
   "source": [
    "import pandas as pd\n",
    "import seaborn as sns\n",
    "import matplotlib.pyplot as plt"
   ]
  },
  {
   "cell_type": "code",
   "execution_count": 7,
   "id": "8696b48d-6ace-42a3-a0cc-887c447e3c54",
   "metadata": {},
   "outputs": [],
   "source": [
    "# Load your data\n",
    "df = pd.read_csv('/Users/apichet/Downloads/your_outliers.csv')"
   ]
  },
  {
   "cell_type": "code",
   "execution_count": 18,
   "id": "1b36edab-45a4-455d-b736-cd1de9746eed",
   "metadata": {},
   "outputs": [
    {
     "name": "stderr",
     "output_type": "stream",
     "text": [
      "/var/folders/6p/zr1pt4fd6q3fpxb61scy6_rm0000gn/T/ipykernel_87592/2408231645.py:2: SettingWithCopyWarning: \n",
      "A value is trying to be set on a copy of a slice from a DataFrame.\n",
      "Try using .loc[row_indexer,col_indexer] = value instead\n",
      "\n",
      "See the caveats in the documentation: https://pandas.pydata.org/pandas-docs/stable/user_guide/indexing.html#returning-a-view-versus-a-copy\n",
      "  non_outliers.loc[:, 'hour'] = non_outliers['Time(UTC)'].dt.hour\n"
     ]
    }
   ],
   "source": [
    "# Instead of directly assigning, use .loc to avoid SettingWithCopyWarning\n",
    "non_outliers.loc[:, 'hour'] = non_outliers['Time(UTC)'].dt.hour"
   ]
  },
  {
   "cell_type": "code",
   "execution_count": 8,
   "id": "c6d9f896-1baf-4372-9126-16db11268526",
   "metadata": {},
   "outputs": [],
   "source": [
    "# Convert necessary columns to appropriate data types\n",
    "df['Time(UTC)'] = pd.to_datetime(df['Time(UTC)'])\n",
    "df['Amount/TokenID'] = pd.to_numeric(df['Amount/TokenID'], errors='coerce')"
   ]
  },
  {
   "cell_type": "code",
   "execution_count": 9,
   "id": "09644055-e3f5-45fa-8cfd-b89e5489c61f",
   "metadata": {},
   "outputs": [],
   "source": [
    "# Filter data for further analysis\n",
    "outliers = df[df['is_anomaly'] == -1]\n",
    "non_outliers = df[df['is_anomaly'] != -1]"
   ]
  },
  {
   "cell_type": "code",
   "execution_count": 10,
   "id": "31a05971-c8de-4f1d-807f-51a1311cc8a9",
   "metadata": {},
   "outputs": [
    {
     "name": "stderr",
     "output_type": "stream",
     "text": [
      "/var/folders/6p/zr1pt4fd6q3fpxb61scy6_rm0000gn/T/ipykernel_87592/1150713607.py:2: SettingWithCopyWarning: \n",
      "A value is trying to be set on a copy of a slice from a DataFrame.\n",
      "Try using .loc[row_indexer,col_indexer] = value instead\n",
      "\n",
      "See the caveats in the documentation: https://pandas.pydata.org/pandas-docs/stable/user_guide/indexing.html#returning-a-view-versus-a-copy\n",
      "  outliers['hour'] = outliers['Time(UTC)'].dt.hour\n",
      "/var/folders/6p/zr1pt4fd6q3fpxb61scy6_rm0000gn/T/ipykernel_87592/1150713607.py:3: SettingWithCopyWarning: \n",
      "A value is trying to be set on a copy of a slice from a DataFrame.\n",
      "Try using .loc[row_indexer,col_indexer] = value instead\n",
      "\n",
      "See the caveats in the documentation: https://pandas.pydata.org/pandas-docs/stable/user_guide/indexing.html#returning-a-view-versus-a-copy\n",
      "  non_outliers['hour'] = non_outliers['Time(UTC)'].dt.hour\n"
     ]
    }
   ],
   "source": [
    "# Temporal analysis: Distribution of transactions over time\n",
    "outliers['hour'] = outliers['Time(UTC)'].dt.hour\n",
    "non_outliers['hour'] = non_outliers['Time(UTC)'].dt.hour"
   ]
  },
  {
   "cell_type": "code",
   "execution_count": 23,
   "id": "07207624-2464-4e7d-b829-6b1c041c7f51",
   "metadata": {},
   "outputs": [
    {
     "data": {
      "image/png": "[encoded data removed]",
      "text/plain": [
       "<Figure size 432x288 with 1 Axes>"
      ]
     },
     "metadata": {
      "needs_background": "light"
     },
     "output_type": "display_data"
    }
   ],
   "source": [
    "# Visualize the hour of transactions for outliers\n",
    "sns.histplot(outliers['hour'], kde=False, bins=24)\n",
    "plt.title('Hourly Distribution of Outlier Transactions')\n",
    "plt.show()"
   ]
  },
  {
   "cell_type": "code",
   "execution_count": 13,
   "id": "aaed0b19-a0c0-4346-9c54-f7a05fca0a5c",
   "metadata": {},
   "outputs": [
    {
     "name": "stdout",
     "output_type": "stream",
     "text": [
      "Frequent 'From' addresses in outliers:\n",
      "TBGayuzo4NcLSNJHyaPiJsLn8WNsig18WK    6\n",
      "Name: From, dtype: int64\n"
     ]
    }
   ],
   "source": [
    "# Address Analysis: Count transactions by address\n",
    "address_counts = outliers['From'].value_counts()\n",
    "print(\"Frequent 'From' addresses in outliers:\")\n",
    "print(address_counts.head())"
   ]
  },
  {
   "cell_type": "code",
   "execution_count": 14,
   "id": "c6c7b6de-dc62-4623-b5ad-2fb6da17a316",
   "metadata": {},
   "outputs": [
    {
     "name": "stdout",
     "output_type": "stream",
     "text": [
      "T-statistic: 17.92327677062749, P-value: 9.393744123375754e-06\n"
     ]
    }
   ],
   "source": [
    "# Statistical Test Example: Compare means using a t-test\n",
    "from scipy.stats import ttest_ind\n",
    "t_stat, p_val = ttest_ind(outliers['Amount/TokenID'], non_outliers['Amount/TokenID'], equal_var=False)\n",
    "print(f\"T-statistic: {t_stat}, P-value: {p_val}\")"
   ]
  },
  {
   "cell_type": "code",
   "execution_count": 21,
   "id": "68721ddc-b706-4e44-a535-ae072bb355f0",
   "metadata": {},
   "outputs": [
    {
     "name": "stderr",
     "output_type": "stream",
     "text": [
      "/var/folders/6p/zr1pt4fd6q3fpxb61scy6_rm0000gn/T/ipykernel_87592/2892155200.py:6: SettingWithCopyWarning: \n",
      "A value is trying to be set on a copy of a slice from a DataFrame.\n",
      "Try using .loc[row_indexer,col_indexer] = value instead\n",
      "\n",
      "See the caveats in the documentation: https://pandas.pydata.org/pandas-docs/stable/user_guide/indexing.html#returning-a-view-versus-a-copy\n",
      "  outliers['hour'] = outliers['Time(UTC)'].dt.hour\n",
      "/var/folders/6p/zr1pt4fd6q3fpxb61scy6_rm0000gn/T/ipykernel_87592/2892155200.py:7: SettingWithCopyWarning: \n",
      "A value is trying to be set on a copy of a slice from a DataFrame.\n",
      "Try using .loc[row_indexer,col_indexer] = value instead\n",
      "\n",
      "See the caveats in the documentation: https://pandas.pydata.org/pandas-docs/stable/user_guide/indexing.html#returning-a-view-versus-a-copy\n",
      "  non_outliers['hour'] = non_outliers['Time(UTC)'].dt.hour\n"
     ]
    },
    {
     "data": {
      "image/png": "[encoded data removed]",
      "text/plain": [
       "<Figure size 432x288 with 1 Axes>"
      ]
     },
     "metadata": {
      "needs_background": "light"
     },
     "output_type": "display_data"
    },
    {
     "name": "stdout",
     "output_type": "stream",
     "text": [
      "Frequent 'From' addresses in outliers:\n",
      "TBGayuzo4NcLSNJHyaPiJsLn8WNsig18WK    6\n",
      "Name: From, dtype: int64\n",
      "T-statistic: 17.92327677062749, P-value: 9.393744123375754e-06\n"
     ]
    }
   ],
   "source": [
    "# Filter data for further analysis\n",
    "outliers = df[df['is_anomaly'] == -1]\n",
    "non_outliers = df[df['is_anomaly'] != -1]\n",
    "\n",
    "# Temporal analysis: Distribution of transactions over time\n",
    "outliers['hour'] = outliers['Time(UTC)'].dt.hour\n",
    "non_outliers['hour'] = non_outliers['Time(UTC)'].dt.hour\n",
    "\n",
    "import seaborn as sns\n",
    "import matplotlib.pyplot as plt\n",
    "\n",
    "# Visualize the hour of transactions for outliers\n",
    "sns.histplot(outliers['hour'], kde=False, bins=24)\n",
    "plt.title('Hourly Distribution of Outlier Transactions')\n",
    "plt.show()\n",
    "\n",
    "# Address Analysis: Count transactions by address\n",
    "address_counts = outliers['From'].value_counts()\n",
    "print(\"Frequent 'From' addresses in outliers:\")\n",
    "print(address_counts.head())\n",
    "\n",
    "# Statistical Test Example: Compare means using a t-test\n",
    "from scipy.stats import ttest_ind\n",
    "t_stat, p_val = ttest_ind(outliers['Amount/TokenID'], non_outliers['Amount/TokenID'], equal_var=False)\n",
    "print(f\"T-statistic: {t_stat}, P-value: {p_val}\")"
   ]
  }
 ],
 "metadata": {
  "kernelspec": {
   "display_name": "Python 3 (ipykernel)",
   "language": "python",
   "name": "python3"
  },
  "language_info": {
   "codemirror_mode": {
    "name": "ipython",
    "version": 3
   },
   "file_extension": ".py",
   "mimetype": "text/x-python",
   "name": "python",
   "nbconvert_exporter": "python",
   "pygments_lexer": "ipython3",
   "version": "3.9.12"
  }
 },
 "nbformat": 4,
 "nbformat_minor": 5
}
